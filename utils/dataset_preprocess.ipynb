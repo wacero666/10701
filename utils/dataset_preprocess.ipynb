{
 "cells": [
  {
   "cell_type": "code",
   "execution_count": 3,
   "metadata": {},
   "outputs": [],
   "source": [
    "import numpy as np"
   ]
  },
  {
   "cell_type": "code",
   "execution_count": 14,
   "metadata": {},
   "outputs": [],
   "source": [
    "original = np.load('./greenday_dataset/midis_array_GreenDay_BGD_original.npy')\n",
    "bass_original = original[:,0,:,:]\n",
    "guitar_original = original[:,1,:,:]\n",
    "drum_original = original[:,2,:,:]\n",
    "vocab_set = list(np.load('./greenday_dataset/chord_vocab_greenday.npy'))\n",
    "separator_ind = len(vocab_set)"
   ]
  },
  {
   "cell_type": "code",
   "execution_count": 15,
   "metadata": {},
   "outputs": [],
   "source": [
    "# vocab_set = []\n",
    "# for song_ind in range(guitar_original.shape[0]):\n",
    "#     song = guitar_original[song_ind]\n",
    "#     for t in range(song.shape[1]):\n",
    "#         note = song[:,t]\n",
    "#         non_zero_ind = np.nonzero(note)[0]\n",
    "#         vocab_set.append(tuple(non_zero_ind))\n",
    "\n",
    "# vocab_set = list(set(vocab_set))\n",
    "# vocab_set.sort(key=lambda t:len(t))\n",
    "# separator_ind = len(vocab_set)\n",
    "# print (vocab_set)\n",
    "# np.save('./greenday/chord_vocab_greenday.npy', vocab_set)"
   ]
  },
  {
   "cell_type": "code",
   "execution_count": 16,
   "metadata": {},
   "outputs": [],
   "source": [
    "def preprocess_guitar():\n",
    "    changed_songs = []\n",
    "    for song_ind in range(guitar_original.shape[0]):\n",
    "        song = guitar_original[song_ind]\n",
    "        changed_song = []\n",
    "        for t in range(song.shape[1]):\n",
    "            note = song[:,t]\n",
    "            chord = tuple(np.nonzero(note)[0])\n",
    "            chord_ind = vocab_set.index(chord)\n",
    "            if len(changed_song) > 0 and chord_ind == changed_song[-1]:\n",
    "                if len(chord) > 0 and note[chord[0]] == 1:\n",
    "                    changed_song.append(separator_ind)\n",
    "            changed_song.append(chord_ind)\n",
    "        changed_song = np.trim_zeros(np.array(changed_song))\n",
    "        if len(changed_song) > 0:\n",
    "            changed_songs.append(changed_song)\n",
    "    changed_songs = np.array(changed_songs)\n",
    "    np.save('./greenday_dataset/midis_array_guitar_greenday.npy', changed_songs)\n",
    "    \n",
    "def preprocess_bass():\n",
    "    changed_songs = []\n",
    "    for song_ind in range(bass_original.shape[0]):\n",
    "        song = bass_original[song_ind]\n",
    "        changed_song = []\n",
    "        for t in range(song.shape[1]):\n",
    "            note = song[:,t]\n",
    "            note_ind = np.argmax(note)\n",
    "            if len(changed_song) > 0 and note_ind == changed_song[-1]:\n",
    "                if note[note_ind] == 1:\n",
    "                    changed_song.append(128)\n",
    "            changed_song.append(note_ind)\n",
    "        changed_song = np.trim_zeros(np.array(changed_song))\n",
    "        if len(changed_song) > 0:\n",
    "            changed_songs.append(changed_song)\n",
    "    changed_songs = np.array(changed_songs)\n",
    "    np.save('./greenday_dataset/midis_array_bass_greenday.npy', changed_songs)\n",
    "    \n",
    "def preprocess_drum():\n",
    "    changed_songs = []\n",
    "    for song_ind in range(drum_original.shape[0]):\n",
    "        song = drum_original[song_ind]\n",
    "        changed_song = []\n",
    "        for t in range(song.shape[1]):\n",
    "            note = song[:,t]\n",
    "            note_ind = np.argmax(note)\n",
    "            if len(changed_song) > 0 and note_ind == changed_song[-1]:\n",
    "                if note[note_ind] == 1:\n",
    "                    changed_song.append(128)\n",
    "            changed_song.append(note_ind)\n",
    "        changed_song = np.trim_zeros(np.array(changed_song))\n",
    "        if len(changed_song) > 0:\n",
    "            changed_songs.append(changed_song)\n",
    "    changed_songs = np.array(changed_songs)\n",
    "    np.save('./greenday_dataset/midis_array_drum_greenday.npy', changed_songs)"
   ]
  },
  {
   "cell_type": "code",
   "execution_count": 17,
   "metadata": {},
   "outputs": [],
   "source": [
    "preprocess_guitar()"
   ]
  }
 ],
 "metadata": {
  "kernelspec": {
   "display_name": "Python 3",
   "language": "python",
   "name": "python3"
  },
  "language_info": {
   "codemirror_mode": {
    "name": "ipython",
    "version": 3
   },
   "file_extension": ".py",
   "mimetype": "text/x-python",
   "name": "python",
   "nbconvert_exporter": "python",
   "pygments_lexer": "ipython3",
   "version": "3.6.6"
  }
 },
 "nbformat": 4,
 "nbformat_minor": 2
}
